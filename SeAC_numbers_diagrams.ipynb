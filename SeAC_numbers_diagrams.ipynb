{
 "cells": [
  {
   "cell_type": "code",
   "execution_count": 10,
   "id": "bc37df61",
   "metadata": {},
   "outputs": [],
   "source": [
    "import pandas as pd\n",
    "from tqdm import tqdm\n",
    "import numpy as np\n",
    "import openpyxl\n",
    "import matplotlib.pyplot as plt\n",
    "import matplotlib.font_manager\n",
    "from scipy.interpolate import make_interp_spline"
   ]
  },
  {
   "cell_type": "code",
   "execution_count": 2,
   "id": "34fa8dfe",
   "metadata": {},
   "outputs": [],
   "source": [
    "path_dataset = 'C:/Users/Teclast/Documents/Papers/Deep Learning in Artworks/Database/Labels/Classification_Labels.xlsx'\n",
    "path_emo_dataset = 'C:/Users/Teclast/Documents/Papers/Deep Learning in Artworks/Database/Labels/Sentiment_labels.xlsx'"
   ]
  },
  {
   "cell_type": "code",
   "execution_count": 3,
   "id": "7a77800c",
   "metadata": {},
   "outputs": [],
   "source": [
    "class_dataset = pd.read_excel(path_dataset, engine = 'openpyxl')\n",
    "emo_dataset = pd.read_excel(path_emo_dataset, engine = 'openpyxl')"
   ]
  },
  {
   "cell_type": "code",
   "execution_count": 18,
   "id": "d159943d",
   "metadata": {},
   "outputs": [
    {
     "data": {
      "text/html": [
       "<div>\n",
       "<style scoped>\n",
       "    .dataframe tbody tr th:only-of-type {\n",
       "        vertical-align: middle;\n",
       "    }\n",
       "\n",
       "    .dataframe tbody tr th {\n",
       "        vertical-align: top;\n",
       "    }\n",
       "\n",
       "    .dataframe thead th {\n",
       "        text-align: right;\n",
       "    }\n",
       "</style>\n",
       "<table border=\"1\" class=\"dataframe\">\n",
       "  <thead>\n",
       "    <tr style=\"text-align: right;\">\n",
       "      <th></th>\n",
       "      <th>Artist_Name</th>\n",
       "      <th>Painting_Name</th>\n",
       "      <th>Art_Genre</th>\n",
       "      <th>Art Nouveau</th>\n",
       "      <th>Baroque</th>\n",
       "      <th>Cubism</th>\n",
       "      <th>Impressionism</th>\n",
       "      <th>Italian Renaissance</th>\n",
       "      <th>Mannerism-Late Renaissance</th>\n",
       "      <th>Northern Renaissance</th>\n",
       "      <th>Pop Art</th>\n",
       "      <th>Post-Impressionism</th>\n",
       "      <th>Realism</th>\n",
       "      <th>Rococo</th>\n",
       "      <th>Romanticism</th>\n",
       "      <th>Street Art</th>\n",
       "      <th>Surrealism</th>\n",
       "    </tr>\n",
       "  </thead>\n",
       "  <tbody>\n",
       "    <tr>\n",
       "      <th>0</th>\n",
       "      <td>Achille Beltrame</td>\n",
       "      <td>22-agosto-1915</td>\n",
       "      <td>Art Nouveau</td>\n",
       "      <td>1</td>\n",
       "      <td>0</td>\n",
       "      <td>0</td>\n",
       "      <td>0</td>\n",
       "      <td>0</td>\n",
       "      <td>0</td>\n",
       "      <td>0</td>\n",
       "      <td>0</td>\n",
       "      <td>0</td>\n",
       "      <td>0</td>\n",
       "      <td>0</td>\n",
       "      <td>0</td>\n",
       "      <td>0</td>\n",
       "      <td>0</td>\n",
       "    </tr>\n",
       "    <tr>\n",
       "      <th>1</th>\n",
       "      <td>Achille Beltrame</td>\n",
       "      <td>a-moment-s-rest-beltrame</td>\n",
       "      <td>Art Nouveau</td>\n",
       "      <td>1</td>\n",
       "      <td>0</td>\n",
       "      <td>0</td>\n",
       "      <td>0</td>\n",
       "      <td>0</td>\n",
       "      <td>0</td>\n",
       "      <td>0</td>\n",
       "      <td>0</td>\n",
       "      <td>0</td>\n",
       "      <td>0</td>\n",
       "      <td>0</td>\n",
       "      <td>0</td>\n",
       "      <td>0</td>\n",
       "      <td>0</td>\n",
       "    </tr>\n",
       "  </tbody>\n",
       "</table>\n",
       "</div>"
      ],
      "text/plain": [
       "        Artist_Name             Painting_Name    Art_Genre  Art Nouveau  \\\n",
       "0  Achille Beltrame            22-agosto-1915  Art Nouveau            1   \n",
       "1  Achille Beltrame  a-moment-s-rest-beltrame  Art Nouveau            1   \n",
       "\n",
       "   Baroque  Cubism  Impressionism  Italian Renaissance  \\\n",
       "0        0       0              0                    0   \n",
       "1        0       0              0                    0   \n",
       "\n",
       "   Mannerism-Late Renaissance  Northern Renaissance  Pop Art  \\\n",
       "0                           0                     0        0   \n",
       "1                           0                     0        0   \n",
       "\n",
       "   Post-Impressionism  Realism  Rococo  Romanticism  Street Art  Surrealism  \n",
       "0                   0        0       0            0           0           0  \n",
       "1                   0        0       0            0           0           0  "
      ]
     },
     "execution_count": 18,
     "metadata": {},
     "output_type": "execute_result"
    }
   ],
   "source": [
    "class_dataset.head(2)"
   ]
  },
  {
   "cell_type": "code",
   "execution_count": 5,
   "id": "9b42b260",
   "metadata": {},
   "outputs": [
    {
     "data": {
      "text/plain": [
       "array(['Art Nouveau', 'Baroque', 'Cubism', 'Impressionism',\n",
       "       'Italian Renaissance', 'Mannerism-Late Renaissance',\n",
       "       'Northern Renaissance', 'Pop Art', 'Post-Impressionism', 'Realism',\n",
       "       'Rococo', 'Romanticism', 'Street Art', 'Surrealism'], dtype=object)"
      ]
     },
     "execution_count": 5,
     "metadata": {},
     "output_type": "execute_result"
    }
   ],
   "source": [
    "art_class = class_dataset.Art_Genre.unique()\n",
    "art_class"
   ]
  },
  {
   "cell_type": "code",
   "execution_count": 6,
   "id": "58d3c963",
   "metadata": {},
   "outputs": [
    {
     "name": "stdout",
     "output_type": "stream",
     "text": [
      "38\n",
      "37\n",
      "88\n",
      "29\n",
      "50\n",
      "46\n",
      "47\n",
      "70\n",
      "30\n",
      "22\n",
      "59\n",
      "47\n",
      "47\n",
      "72\n"
     ]
    }
   ],
   "source": [
    "for i in range(0, len(art_class)):\n",
    "    df_class = class_dataset.loc[class_dataset['Art_Genre'] == art_class[i]]\n",
    "    list_painter = df_class.Artist_Name.unique()\n",
    "    print(len(list_painter))"
   ]
  },
  {
   "cell_type": "code",
   "execution_count": 22,
   "id": "2640f767",
   "metadata": {
    "scrolled": true
   },
   "outputs": [
    {
     "data": {
      "text/html": [
       "<div>\n",
       "<style scoped>\n",
       "    .dataframe tbody tr th:only-of-type {\n",
       "        vertical-align: middle;\n",
       "    }\n",
       "\n",
       "    .dataframe tbody tr th {\n",
       "        vertical-align: top;\n",
       "    }\n",
       "\n",
       "    .dataframe thead th {\n",
       "        text-align: right;\n",
       "    }\n",
       "</style>\n",
       "<table border=\"1\" class=\"dataframe\">\n",
       "  <thead>\n",
       "    <tr style=\"text-align: right;\">\n",
       "      <th></th>\n",
       "      <th>Artist_Name</th>\n",
       "      <th>File_Name</th>\n",
       "      <th>Art_Class</th>\n",
       "      <th>Emotion_Group_1</th>\n",
       "      <th>Emotion_Group_2</th>\n",
       "      <th>Emotion_Group_3</th>\n",
       "    </tr>\n",
       "  </thead>\n",
       "  <tbody>\n",
       "    <tr>\n",
       "      <th>0</th>\n",
       "      <td>Alphonse Maria Mucha</td>\n",
       "      <td>alphonse-mucha_6th-sokol-festival-1912</td>\n",
       "      <td>Art Nouveau</td>\n",
       "      <td>Disgust</td>\n",
       "      <td>Sadness</td>\n",
       "      <td>Surprise</td>\n",
       "    </tr>\n",
       "    <tr>\n",
       "      <th>1</th>\n",
       "      <td>Alphonse Maria Mucha</td>\n",
       "      <td>alphonse-mucha_8th-sokol-festival-1912</td>\n",
       "      <td>Art Nouveau</td>\n",
       "      <td>Joy</td>\n",
       "      <td>Sadness</td>\n",
       "      <td>Joy</td>\n",
       "    </tr>\n",
       "  </tbody>\n",
       "</table>\n",
       "</div>"
      ],
      "text/plain": [
       "            Artist_Name                               File_Name    Art_Class  \\\n",
       "0  Alphonse Maria Mucha  alphonse-mucha_6th-sokol-festival-1912  Art Nouveau   \n",
       "1  Alphonse Maria Mucha  alphonse-mucha_8th-sokol-festival-1912  Art Nouveau   \n",
       "\n",
       "  Emotion_Group_1 Emotion_Group_2 Emotion_Group_3  \n",
       "0         Disgust         Sadness        Surprise  \n",
       "1             Joy         Sadness             Joy  "
      ]
     },
     "execution_count": 22,
     "metadata": {},
     "output_type": "execute_result"
    }
   ],
   "source": [
    "emo_dataset.head(2)"
   ]
  },
  {
   "cell_type": "code",
   "execution_count": 8,
   "id": "211952a0",
   "metadata": {},
   "outputs": [
    {
     "name": "stdout",
     "output_type": "stream",
     "text": [
      "emo_class: ['Surprise' 'Joy' 'Sadness' 'Anger' 'Fear' 'Disgust']\n",
      "emo_list: ['Joy', 'Sadness', 'Disgust', 'Surprise', 'Anger', 'Fear']\n"
     ]
    }
   ],
   "source": [
    "emo_class = emo_dataset.Emotion_Group_3.unique()\n",
    "print('emo_class:', emo_class)\n",
    "\n",
    "emo_list = [emo_class[1], emo_class[2], emo_class[5], emo_class[0], emo_class[3], emo_class[4]]\n",
    "print('emo_list:', emo_list)"
   ]
  },
  {
   "cell_type": "code",
   "execution_count": 20,
   "id": "198f6bf7",
   "metadata": {},
   "outputs": [
    {
     "name": "stdout",
     "output_type": "stream",
     "text": [
      "Art Nouveau ; Joy ; 41.37\n",
      "Art Nouveau ; Sadness ; 19.91\n",
      "Art Nouveau ; Disgust ; 5.3\n",
      "Art Nouveau ; Surprise ; 17.44\n",
      "Art Nouveau ; Anger ; 9.22\n",
      "Art Nouveau ; Fear ; 6.76\n",
      "Art Nouveau ; Total ; 1095\n",
      "Baroque ; Joy ; 17.61\n",
      "Baroque ; Sadness ; 44.43\n",
      "Baroque ; Disgust ; 1.82\n",
      "Baroque ; Surprise ; 28.28\n",
      "Baroque ; Anger ; 3.28\n",
      "Baroque ; Fear ; 4.56\n",
      "Baroque ; Total ; 1096\n",
      "Cubism ; Joy ; 8.65\n",
      "Cubism ; Sadness ; 10.47\n",
      "Cubism ; Disgust ; 1.37\n",
      "Cubism ; Surprise ; 77.14\n",
      "Cubism ; Anger ; 1.0\n",
      "Cubism ; Fear ; 1.37\n",
      "Cubism ; Total ; 1098\n",
      "Impressionism ; Joy ; 65.99\n",
      "Impressionism ; Sadness ; 15.63\n",
      "Impressionism ; Disgust ; 0.36\n",
      "Impressionism ; Surprise ; 16.52\n",
      "Impressionism ; Anger ; 1.07\n",
      "Impressionism ; Fear ; 0.44\n",
      "Impressionism ; Total ; 1126\n",
      "Italian Renaissance ; Joy ; 11.54\n",
      "Italian Renaissance ; Sadness ; 35.26\n",
      "Italian Renaissance ; Disgust ; 2.75\n",
      "Italian Renaissance ; Surprise ; 42.49\n",
      "Italian Renaissance ; Anger ; 3.21\n",
      "Italian Renaissance ; Fear ; 4.76\n",
      "Italian Renaissance ; Total ; 1092\n",
      "Mannerism-Late Renaissance ; Joy ; 9.42\n",
      "Mannerism-Late Renaissance ; Sadness ; 33.03\n",
      "Mannerism-Late Renaissance ; Disgust ; 1.92\n",
      "Mannerism-Late Renaissance ; Surprise ; 44.19\n",
      "Mannerism-Late Renaissance ; Anger ; 1.56\n",
      "Mannerism-Late Renaissance ; Fear ; 9.88\n",
      "Mannerism-Late Renaissance ; Total ; 1093\n",
      "Northern Renaissance ; Joy ; 18.07\n",
      "Northern Renaissance ; Sadness ; 20.48\n",
      "Northern Renaissance ; Disgust ; 13.06\n",
      "Northern Renaissance ; Surprise ; 25.22\n",
      "Northern Renaissance ; Anger ; 7.33\n",
      "Northern Renaissance ; Fear ; 15.83\n",
      "Northern Renaissance ; Total ; 1118\n",
      "Pop Art ; Joy ; 21.4\n",
      "Pop Art ; Sadness ; 5.53\n",
      "Pop Art ; Disgust ; 1.63\n",
      "Pop Art ; Surprise ; 68.18\n",
      "Pop Art ; Anger ; 1.54\n",
      "Pop Art ; Fear ; 1.72\n",
      "Pop Art ; Total ; 1103\n",
      "Post-Impressionism ; Joy ; 59.61\n",
      "Post-Impressionism ; Sadness ; 14.36\n",
      "Post-Impressionism ; Disgust ; 2.42\n",
      "Post-Impressionism ; Surprise ; 22.62\n",
      "Post-Impressionism ; Anger ; 0.63\n",
      "Post-Impressionism ; Fear ; 0.36\n",
      "Post-Impressionism ; Total ; 1114\n",
      "Realism ; Joy ; 53.87\n",
      "Realism ; Sadness ; 25.92\n",
      "Realism ; Disgust ; 0.46\n",
      "Realism ; Surprise ; 16.61\n",
      "Realism ; Anger ; 0.55\n",
      "Realism ; Fear ; 2.58\n",
      "Realism ; Total ; 1084\n",
      "Rococo ; Joy ; 34.64\n",
      "Rococo ; Sadness ; 17.41\n",
      "Rococo ; Disgust ; 1.7\n",
      "Rococo ; Surprise ; 43.12\n",
      "Rococo ; Anger ; 0.45\n",
      "Rococo ; Fear ; 2.68\n",
      "Rococo ; Total ; 1120\n",
      "Romanticism ; Joy ; 31.21\n",
      "Romanticism ; Sadness ; 22.44\n",
      "Romanticism ; Disgust ; 3.32\n",
      "Romanticism ; Surprise ; 31.21\n",
      "Romanticism ; Anger ; 2.95\n",
      "Romanticism ; Fear ; 8.86\n",
      "Romanticism ; Total ; 1083\n",
      "Street Art ; Joy ; 9.62\n",
      "Street Art ; Sadness ; 12.28\n",
      "Street Art ; Disgust ; 0.2\n",
      "Street Art ; Surprise ; 74.72\n",
      "Street Art ; Anger ; 2.56\n",
      "Street Art ; Fear ; 0.61\n",
      "Street Art ; Total ; 977\n",
      "Surrealism ; Joy ; 13.76\n",
      "Surrealism ; Sadness ; 9.02\n",
      "Surrealism ; Disgust ; 24.89\n",
      "Surrealism ; Surprise ; 44.21\n",
      "Surrealism ; Anger ; 2.64\n",
      "Surrealism ; Fear ; 5.47\n",
      "Surrealism ; Total ; 1097\n"
     ]
    },
    {
     "data": {
      "text/plain": [
       "<Figure size 432x288 with 0 Axes>"
      ]
     },
     "metadata": {},
     "output_type": "display_data"
    }
   ],
   "source": [
    "path_save = 'C:/Users/Teclast/Documents/Papers/Deep Learning in Artworks/Writing/emotion percentages per class/'\n",
    "fig = plt.figure()\n",
    "\n",
    "for i in range(0, len(art_class)):\n",
    "    list_perc = []\n",
    "    y = []\n",
    "    df_class = emo_dataset.loc[emo_dataset['Art_Class'] == art_class[i]]\n",
    "    total_count_emo = len(df_class)\n",
    "    for k in range(0, len(emo_list)):     \n",
    "        df_emo_class = df_class.loc[df_class['Emotion_Group_3'] == emo_list[k]]\n",
    "        perc_emo =  len(df_emo_class)/total_count_emo\n",
    "        perc_emo =  perc_emo * 100\n",
    "        perc_emo =  round(perc_emo,2)\n",
    "        print(art_class[i],';', emo_list[k],';',perc_emo)\n",
    "        list_perc.append(perc_emo)\n",
    "    print(art_class[i],';','Total',';',total_count_emo)\n",
    "    y = np.array(list_perc)\n",
    "    mylabels = list_perc\n",
    "    mycolors = [\"blue\", \"orange\", \"gray\", \"yellow\", \"green\", \"red\"]\n",
    "    plt.pie(y, labels = mylabels, colors = mycolors)\n",
    "    plt.rcParams['font.family'] = 'DeJavu Serif'\n",
    "    plt.rcParams['font.serif'] = ['Times New Roman']\n",
    "    path_save_fig = path_save + art_class[i] + '_3' + '.png'\n",
    "    fig.savefig(path_save_fig, dpi = 150)\n",
    "    plt.clf()"
   ]
  },
  {
   "cell_type": "markdown",
   "id": "80092430",
   "metadata": {},
   "source": [
    "# statistics of classification dataset"
   ]
  },
  {
   "cell_type": "code",
   "execution_count": 2,
   "id": "346d1933",
   "metadata": {},
   "outputs": [
    {
     "data": {
      "text/html": [
       "<div>\n",
       "<style scoped>\n",
       "    .dataframe tbody tr th:only-of-type {\n",
       "        vertical-align: middle;\n",
       "    }\n",
       "\n",
       "    .dataframe tbody tr th {\n",
       "        vertical-align: top;\n",
       "    }\n",
       "\n",
       "    .dataframe thead th {\n",
       "        text-align: right;\n",
       "    }\n",
       "</style>\n",
       "<table border=\"1\" class=\"dataframe\">\n",
       "  <thead>\n",
       "    <tr style=\"text-align: right;\">\n",
       "      <th></th>\n",
       "      <th>Artist_Name</th>\n",
       "      <th>Painting_Name</th>\n",
       "      <th>Art_Genre</th>\n",
       "      <th>Art Nouveau</th>\n",
       "      <th>Baroque</th>\n",
       "      <th>Impressionism</th>\n",
       "      <th>Italian Renaissance</th>\n",
       "      <th>Post-Impressionism</th>\n",
       "      <th>Realism</th>\n",
       "      <th>Rococo</th>\n",
       "      <th>Romanticism</th>\n",
       "      <th>Street Art</th>\n",
       "      <th>Surrealism</th>\n",
       "    </tr>\n",
       "  </thead>\n",
       "  <tbody>\n",
       "    <tr>\n",
       "      <th>0</th>\n",
       "      <td>Achille Beltrame</td>\n",
       "      <td>22-agosto-1915</td>\n",
       "      <td>Art Nouveau</td>\n",
       "      <td>1</td>\n",
       "      <td>0</td>\n",
       "      <td>0</td>\n",
       "      <td>0</td>\n",
       "      <td>0</td>\n",
       "      <td>0</td>\n",
       "      <td>0</td>\n",
       "      <td>0</td>\n",
       "      <td>0</td>\n",
       "      <td>0</td>\n",
       "    </tr>\n",
       "    <tr>\n",
       "      <th>1</th>\n",
       "      <td>Achille Beltrame</td>\n",
       "      <td>a-moment-s-rest-beltrame</td>\n",
       "      <td>Art Nouveau</td>\n",
       "      <td>1</td>\n",
       "      <td>0</td>\n",
       "      <td>0</td>\n",
       "      <td>0</td>\n",
       "      <td>0</td>\n",
       "      <td>0</td>\n",
       "      <td>0</td>\n",
       "      <td>0</td>\n",
       "      <td>0</td>\n",
       "      <td>0</td>\n",
       "    </tr>\n",
       "  </tbody>\n",
       "</table>\n",
       "</div>"
      ],
      "text/plain": [
       "        Artist_Name             Painting_Name    Art_Genre  Art Nouveau  \\\n",
       "0  Achille Beltrame            22-agosto-1915  Art Nouveau            1   \n",
       "1  Achille Beltrame  a-moment-s-rest-beltrame  Art Nouveau            1   \n",
       "\n",
       "   Baroque  Impressionism  Italian Renaissance  Post-Impressionism  Realism  \\\n",
       "0        0              0                    0                   0        0   \n",
       "1        0              0                    0                   0        0   \n",
       "\n",
       "   Rococo  Romanticism  Street Art  Surrealism  \n",
       "0       0            0           0           0  \n",
       "1       0            0           0           0  "
      ]
     },
     "execution_count": 2,
     "metadata": {},
     "output_type": "execute_result"
    }
   ],
   "source": [
    "path_class = 'C:/Users/Teclast/Documents/Papers/Deep Learning in Artworks/Database/Labels/Classification_Labels.xlsx'\n",
    "\n",
    "class_dataset = pd.read_excel(path_class, engine = 'openpyxl')\n",
    "\n",
    "class_dataset.head(2)"
   ]
  },
  {
   "cell_type": "code",
   "execution_count": 3,
   "id": "ffbbd96a",
   "metadata": {},
   "outputs": [
    {
     "data": {
      "text/plain": [
       "array(['Art Nouveau', 'Baroque', 'Impressionism', 'Italian Renaissance',\n",
       "       'Post-Impressionism', 'Realism', 'Rococo', 'Romanticism',\n",
       "       'Street Art', 'Surrealism'], dtype=object)"
      ]
     },
     "execution_count": 3,
     "metadata": {},
     "output_type": "execute_result"
    }
   ],
   "source": [
    "list_class = class_dataset.Art_Genre.unique()\n",
    "list_class"
   ]
  },
  {
   "cell_type": "code",
   "execution_count": 6,
   "id": "87fd7902",
   "metadata": {},
   "outputs": [
    {
     "name": "stdout",
     "output_type": "stream",
     "text": [
      "Art Nouveau 4603\n",
      "Baroque 4462\n",
      "Impressionism 4086\n",
      "Italian Renaissance 3982\n",
      "Post-Impressionism 4600\n",
      "Realism 4293\n",
      "Rococo 3805\n",
      "Romanticism 4349\n",
      "Street Art 4133\n",
      "Surrealism 4651\n",
      "Total: 42964\n"
     ]
    }
   ],
   "source": [
    "for i in range(0,len(list_class)):\n",
    "    df_temp = class_dataset.loc[class_dataset['Art_Genre'] == list_class[i]]\n",
    "    print(list_class[i], len(df_temp))\n",
    "\n",
    "print('Total:', len(class_dataset))"
   ]
  },
  {
   "cell_type": "markdown",
   "id": "4f20b417",
   "metadata": {},
   "source": [
    "# construction of model accuracy and loss diagram"
   ]
  },
  {
   "cell_type": "code",
   "execution_count": 45,
   "id": "1290372b",
   "metadata": {},
   "outputs": [],
   "source": [
    "epoch_list = []\n",
    "\n",
    "for i in range(1,31):\n",
    "    epoch_list.append(i)"
   ]
  },
  {
   "cell_type": "code",
   "execution_count": 61,
   "id": "ca86fb06",
   "metadata": {},
   "outputs": [],
   "source": [
    "y_plot_acc = [0.3477422297000885, 0.4542461931705475, 0.5115382075309753, 0.5483474135398865, 0.5831947922706604, 0.625357449054718, 0.6644942760467529, 0.7128416299819946, 0.7555363178253174, 0.7908160090446472, 0.8244662880897522, 0.8494380712509155, 0.8705193996429443, 0.8889738917350769, 0.9071291089057922, 0.9192658066749573, 0.928010880947113, 0.9341956377029419, 0.9426082372665405, 0.9450688362121582, 0.9515196084976196, 0.9540799260139465, 0.9577375650405884, 0.9601317048072815, 0.9622265100479126, 0.966249942779541, 0.967047929763794, 0.9699075818061829, 0.9684445261955261, 0.9718028903007507]\n",
    "y_plot_acc = [round(num, 2) for num in y_plot_acc]\n",
    "\n",
    "y_plot_val_acc = [0.3068777024745941, 0.3449319303035736, 0.464680552482605, 0.3689049184322357, 0.48702430725097656, 0.37414175271987915, 0.4970324635505676, 0.46642616391181946, 0.5002909302711487, 0.49121376872062683, 0.4967997074127197, 0.44664260745048523, 0.5269405245780945, 0.4898172914981842, 0.518561601638794, 0.5274060368537903, 0.4859769642353058, 0.5464913249015808, 0.49237751960754395, 0.5261259078979492, 0.5291516184806824, 0.5221692323684692, 0.5491679310798645, 0.49889445304870605, 0.5343884825706482, 0.5106481909751892, 0.4777144193649292, 0.49284300208091736, 0.5304317474365234, 0.5574304461479187]\n",
    "y_plot_val_acc = [round(num, 2) for num in y_plot_val_acc]"
   ]
  },
  {
   "cell_type": "code",
   "execution_count": 62,
   "id": "543a9a97",
   "metadata": {},
   "outputs": [],
   "source": [
    "x_plot = np.array(epoch_list)\n",
    "\n",
    "y_plot_acc = np.array(y_plot_acc)\n",
    "y_plot_val_acc = np.array(y_plot_val_acc)\n",
    "\n",
    "X_Y_Spline_acc = make_interp_spline(x_plot, y_plot_acc)\n",
    "X_Y_Spline_val_acc = make_interp_spline(x_plot, y_plot_val_acc)\n",
    "\n",
    "\n",
    "# Returns evenly spaced numbers\n",
    "# over a specified interval.\n",
    "\n",
    "X_plot = np.linspace(x_plot.min(), x_plot.max())\n",
    "y_plot_acc = X_Y_Spline_acc(X_plot)\n",
    "y_plot_val_acc = X_Y_Spline_val_acc(X_plot)"
   ]
  },
  {
   "cell_type": "code",
   "execution_count": 69,
   "id": "f82d4b32",
   "metadata": {},
   "outputs": [
    {
     "data": {
      "text/plain": [
       "<function matplotlib.pyplot.show(close=None, block=None)>"
      ]
     },
     "execution_count": 69,
     "metadata": {},
     "output_type": "execute_result"
    },
    {
     "data": {
      "image/png": "[encoded data removed]",
      "text/plain": [
       "<Figure size 432x288 with 1 Axes>"
      ]
     },
     "metadata": {
      "needs_background": "light"
     },
     "output_type": "display_data"
    }
   ],
   "source": [
    "plt.title(\"model accuracy\")\n",
    "plt.ylabel(\"accuracy\")\n",
    "plt.xlabel(\"epoch\")\n",
    "plt.plot(X_plot, y_plot_acc)\n",
    "plt.plot(X_plot, y_plot_val_acc)\n",
    "plt.legend([\"train\", \"test\"], loc=\"lower right\")\n",
    "plt.show"
   ]
  },
  {
   "cell_type": "code",
   "execution_count": 65,
   "id": "7a98a539",
   "metadata": {},
   "outputs": [
    {
     "data": {
      "text/plain": [
       "<function matplotlib.pyplot.show(close=None, block=None)>"
      ]
     },
     "execution_count": 65,
     "metadata": {},
     "output_type": "execute_result"
    },
    {
     "data": {
      "image/png": "[encoded data removed]",
      "text/plain": [
       "<Figure size 432x288 with 1 Axes>"
      ]
     },
     "metadata": {
      "needs_background": "light"
     },
     "output_type": "display_data"
    }
   ],
   "source": []
  },
  {
   "cell_type": "code",
   "execution_count": null,
   "id": "d3f63e48",
   "metadata": {},
   "outputs": [],
   "source": []
  }
 ],
 "metadata": {
  "kernelspec": {
   "display_name": "Python 3",
   "language": "python",
   "name": "python3"
  },
  "language_info": {
   "codemirror_mode": {
    "name": "ipython",
    "version": 3
   },
   "file_extension": ".py",
   "mimetype": "text/x-python",
   "name": "python",
   "nbconvert_exporter": "python",
   "pygments_lexer": "ipython3",
   "version": "3.6.13"
  }
 },
 "nbformat": 4,
 "nbformat_minor": 5
}
